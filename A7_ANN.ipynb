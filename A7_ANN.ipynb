{
  "nbformat": 4,
  "nbformat_minor": 0,
  "metadata": {
    "colab": {
      "provenance": []
    },
    "kernelspec": {
      "name": "python3",
      "display_name": "Python 3"
    },
    "language_info": {
      "name": "python"
    }
  },
  "cells": [
    {
      "cell_type": "code",
      "execution_count": null,
      "metadata": {
        "id": "ewQFKyiNJrTr"
      },
      "outputs": [],
      "source": [
        "#  Implement Artificial Neural Network training process in Python by using Forward Propagation,\n",
        "# Back Propagation."
      ]
    },
    {
      "cell_type": "code",
      "source": [
        "import numpy as np"
      ],
      "metadata": {
        "id": "cY5O-eJAJ1Uv"
      },
      "execution_count": null,
      "outputs": []
    },
    {
      "cell_type": "code",
      "source": [
        "# Define the sigmoid activation function and its derivative\n",
        "def sigmoid(x):\n",
        "    return 1 / (1 + np.exp(-x))\n",
        "\n",
        "def sigmoid_derivative(x):\n",
        "    return x * (1 - x)"
      ],
      "metadata": {
        "id": "5FIbViCVLCJw"
      },
      "execution_count": null,
      "outputs": []
    },
    {
      "cell_type": "code",
      "source": [
        "# Define the neural network class\n",
        "class NeuralNetwork:\n",
        "    def __init__(self, input_size, hidden_size, output_size, learning_rate):\n",
        "        # Initialize weights and biases randomly\n",
        "        self.weights_input_hidden = np.random.rand(input_size, hidden_size)\n",
        "        self.bias_input_hidden = np.random.rand(1, hidden_size)\n",
        "        self.weights_hidden_output = np.random.rand(hidden_size, output_size)\n",
        "        self.bias_hidden_output = np.random.rand(1, output_size)\n",
        "        self.learning_rate = learning_rate\n",
        "\n",
        "    def feedforward(self, X):\n",
        "        # Forward propagation\n",
        "        self.hidden_output = sigmoid(np.dot(X, self.weights_input_hidden) + self.bias_input_hidden)\n",
        "        self.output = sigmoid(np.dot(self.hidden_output, self.weights_hidden_output) + self.bias_hidden_output)\n",
        "        return self.output\n",
        "\n",
        "    def backpropagation(self, X, y):\n",
        "        # Backpropagation\n",
        "        output_error = y - self.output\n",
        "        output_delta = output_error * sigmoid_derivative(self.output)\n",
        "\n",
        "        hidden_error = output_delta.dot(self.weights_hidden_output.T)\n",
        "        hidden_delta = hidden_error * sigmoid_derivative(self.hidden_output)\n",
        "\n",
        "        # Update weights and biases\n",
        "        self.weights_hidden_output += self.hidden_output.T.dot(output_delta) * self.learning_rate\n",
        "        self.bias_hidden_output += np.sum(output_delta, axis=0, keepdims=True) * self.learning_rate\n",
        "        self.weights_input_hidden += X.T.dot(hidden_delta) * self.learning_rate\n",
        "        self.bias_input_hidden += np.sum(hidden_delta, axis=0, keepdims=True) * self.learning_rate\n",
        "\n",
        "    def train(self, X, y, epochs):\n",
        "        # Training loop\n",
        "        for epoch in range(epochs):\n",
        "            # Forward propagation\n",
        "            output = self.feedforward(X)\n",
        "            # Backpropagation\n",
        "            self.backpropagation(X, y)\n",
        "            # Print the loss every 100 epochs\n",
        "            if epoch % 100 == 0:\n",
        "                loss = np.mean(np.square(y - output))\n",
        "                print(f\"Epoch {epoch}: Loss = {loss}\")"
      ],
      "metadata": {
        "id": "TBDoDTM1LLji"
      },
      "execution_count": null,
      "outputs": []
    },
    {
      "cell_type": "code",
      "source": [
        "# Define the input data and labels\n",
        "X = np.array([[0, 0], [0, 1], [1, 0], [1, 1]])\n",
        "y = np.array([[0], [1], [1], [0]])\n",
        "\n",
        "# Create a neural network instance\n",
        "input_size = 2\n",
        "hidden_size = 4\n",
        "output_size = 1\n",
        "learning_rate = 0.1\n",
        "nn = NeuralNetwork(input_size, hidden_size, output_size, learning_rate)\n",
        "\n",
        "# Train the neural network\n",
        "epochs = 1000\n",
        "nn.train(X, y, epochs)\n",
        "\n",
        "# Test the trained model\n",
        "test_data = np.array([[0, 0], [0, 1], [1, 0], [1, 1]])\n",
        "predictions = nn.feedforward(test_data)\n",
        "print(\"Predictions:\")\n",
        "print(predictions)"
      ],
      "metadata": {
        "colab": {
          "base_uri": "https://localhost:8080/"
        },
        "id": "0wHf_dWKLO0Q",
        "outputId": "55c713d0-1463-4bfd-941f-4874a8bef569"
      },
      "execution_count": null,
      "outputs": [
        {
          "output_type": "stream",
          "name": "stdout",
          "text": [
            "Epoch 0: Loss = 0.3433768515677885\n",
            "Epoch 100: Loss = 0.24995758386121147\n",
            "Epoch 200: Loss = 0.24977737041006026\n",
            "Epoch 300: Loss = 0.24960275375860824\n",
            "Epoch 400: Loss = 0.2494290430361575\n",
            "Epoch 500: Loss = 0.249251869647103\n",
            "Epoch 600: Loss = 0.24906693442435607\n",
            "Epoch 700: Loss = 0.24886981841625433\n",
            "Epoch 800: Loss = 0.24865580469385967\n",
            "Epoch 900: Loss = 0.24841969885621032\n",
            "Predictions:\n",
            "[[0.48158055]\n",
            " [0.5023015 ]\n",
            " [0.50882606]\n",
            " [0.52129367]]\n"
          ]
        }
      ]
    },
    {
      "cell_type": "code",
      "source": [],
      "metadata": {
        "id": "cvxR7J8OLQ44"
      },
      "execution_count": null,
      "outputs": []
    }
  ]
}
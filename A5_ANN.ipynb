{
  "nbformat": 4,
  "nbformat_minor": 0,
  "metadata": {
    "colab": {
      "provenance": []
    },
    "kernelspec": {
      "name": "python3",
      "display_name": "Python 3"
    },
    "language_info": {
      "name": "python"
    }
  },
  "cells": [
    {
      "cell_type": "code",
      "source": [
        "import numpy as np\n",
        "\n",
        "pattern1 = np.array([[1, 1, 1, -1, -1]]) #Pattern A\n",
        "pattern2 = np.array([[-1, -1, -1, 1, 1]]) #Pattern B\n",
        "\n",
        "pattern1_transpose = pattern1.T\n",
        "pattern2_transpose = pattern2.T\n",
        "\n",
        "weigths = np.dot(pattern1_transpose, pattern2)\n",
        "\n",
        "input_pattern1 = np.array([[1, 1, 1, -1, -1]])\n",
        "input_pattern2 = np.array([[-1, -1, -1, -1, 1]])\n",
        "output_pattern1 = np.sign(np.dot(input_pattern1, weigths))\n",
        "print(f\"Recalled Pattern 1: {output_pattern1}\")\n",
        "\n",
        "output_pattern2 = np.sign(np.dot(input_pattern2, weigths.T))\n",
        "print(f\"Recalled Pattern 2: {output_pattern2}\")"
      ],
      "metadata": {
        "colab": {
          "base_uri": "https://localhost:8080/"
        },
        "id": "isYBe40yGWbK",
        "outputId": "3c93d254-9678-444a-ad15-1f1bab438248"
      },
      "execution_count": null,
      "outputs": [
        {
          "output_type": "stream",
          "name": "stdout",
          "text": [
            "Recalled Pattern 1: [[-1 -1 -1  1  1]]\n",
            "Recalled Pattern 2: [[ 1  1  1 -1 -1]]\n"
          ]
        }
      ]
    }
  ]
}
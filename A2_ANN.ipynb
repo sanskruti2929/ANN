{
  "nbformat": 4,
  "nbformat_minor": 0,
  "metadata": {
    "colab": {
      "provenance": []
    },
    "kernelspec": {
      "name": "python3",
      "display_name": "Python 3"
    },
    "language_info": {
      "name": "python"
    }
  },
  "cells": [
    {
      "cell_type": "code",
      "execution_count": null,
      "metadata": {
        "colab": {
          "base_uri": "https://localhost:8080/"
        },
        "id": "nQilbBFfwiWy",
        "outputId": "1d5f6100-a51a-497f-faec-4fd2593ca8fc"
      },
      "outputs": [
        {
          "output_type": "stream",
          "name": "stdout",
          "text": [
            "0\n",
            "0\n",
            "1\n",
            "0\n"
          ]
        }
      ],
      "source": [
        "#Assignment 2\n",
        "import numpy as np\n",
        "\n",
        "def McCulloch_pitts(input, weights, threshold):\n",
        "  activation=np.dot(input, weights)\n",
        "  output=1 if activation >= threshold else 0\n",
        "  return output\n",
        "\n",
        "def ANDNOT (x1,x2):\n",
        "  input=[x1,x2]\n",
        "  weights=[1,-1]\n",
        "  threshold=1\n",
        "  return McCulloch_pitts(input, weights, threshold)\n",
        "\n",
        "print(ANDNOT(0,0))\n",
        "print(ANDNOT(0,1))\n",
        "print(ANDNOT(1,0))\n",
        "print(ANDNOT(1,1))\n",
        "\n",
        "\n"
      ]
    }
  ]
}
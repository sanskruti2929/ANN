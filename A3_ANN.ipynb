{
  "nbformat": 4,
  "nbformat_minor": 0,
  "metadata": {
    "colab": {
      "provenance": []
    },
    "kernelspec": {
      "name": "python3",
      "display_name": "Python 3"
    },
    "language_info": {
      "name": "python"
    }
  },
  "cells": [
    {
      "cell_type": "code",
      "source": [
        "import numpy as np\n",
        "\n",
        "# Training data: ASCII representation of 0 to 9\n",
        "training_data = np.array([\n",
        "    [0, 1, 1, 0, 0, 0, 0, 0],  # ASCII for 0\n",
        "    [0, 1, 1, 1, 0, 0, 0, 1],  # ASCII for 1\n",
        "    [0, 1, 1, 1, 0, 1, 0, 0],  # ASCII for 2\n",
        "    [0, 1, 1, 1, 1, 0, 0, 1],  # ASCII for 3\n",
        "    [0, 1, 1, 1, 1, 0, 1, 0],  # ASCII for 4\n",
        "    [0, 1, 1, 1, 1, 1, 0, 1],  # ASCII for 5\n",
        "    [0, 1, 1, 1, 1, 1, 1, 0],  # ASCII for 6\n",
        "    [0, 1, 1, 1, 1, 1, 1, 1],  # ASCII for 7\n",
        "    [1, 1, 0, 0, 0, 0, 0, 0],  # ASCII for 8\n",
        "    [1, 1, 0, 0, 0, 0, 0, 1]   # ASCII for 9\n",
        "])\n",
        "\n",
        "# Labels: 0 for even, 1 for odd\n",
        "labels = np.array([0, 1, 0, 1, 0, 1, 0, 1, 0, 1])\n",
        "\n",
        "# Perceptron training\n",
        "np.random.seed(42)  # Set a seed for reproducibility\n",
        "weights = np.random.rand(len(training_data[1]))\n",
        "print(\"Initial Weights:\", weights)\n",
        "bias = 0\n",
        "learning_rate = 0.1\n",
        "epochs = 10\n",
        "\n",
        "for epoch in range(epochs):\n",
        "    for inputs, label in zip(training_data, labels):\n",
        "        prediction = np.dot(inputs, weights) + bias\n",
        "        prediction = 1 if prediction >= 0 else 0\n",
        "        weights += learning_rate * (label - prediction) * inputs\n",
        "        bias += learning_rate * (label - prediction)\n",
        "\n",
        "# Test a number (replace ASCII representation)\n",
        "test_number = [0, 1, 1, 1, 1, 0, 0, 0]\n",
        "\n",
        "# Perceptron prediction\n",
        "prediction = np.dot(test_number, weights) + bias\n",
        "print(\"prediction\", prediction)\n",
        "\n",
        "prediction = 1 if prediction >= 0 else 0\n",
        "print(\"\\n\")\n",
        "print(\"Predicted:\", prediction)\n",
        "print(\"\\n\")\n",
        "# Output result\n",
        "if prediction == 0:\n",
        "    print(\"The number is even.\")\n",
        "else:\n",
        "    print(\"The number is odd.\")"
      ],
      "metadata": {
        "colab": {
          "base_uri": "https://localhost:8080/"
        },
        "id": "s2zK5vWHb0mU",
        "outputId": "1c49d547-4198-44f5-d8b8-f3e7decff070"
      },
      "execution_count": null,
      "outputs": [
        {
          "output_type": "stream",
          "name": "stdout",
          "text": [
            "Initial Weights: [0.37454012 0.95071431 0.73199394 0.59865848 0.15601864 0.15599452\n",
            " 0.05808361 0.86617615]\n",
            "prediction -0.16261462713920527\n",
            "\n",
            "\n",
            "Predicted: 0\n",
            "\n",
            "\n",
            "The number is even.\n"
          ]
        }
      ]
    },
    {
      "cell_type": "code",
      "source": [],
      "metadata": {
        "id": "uIBmRJhu989O"
      },
      "execution_count": null,
      "outputs": []
    }
  ]
}